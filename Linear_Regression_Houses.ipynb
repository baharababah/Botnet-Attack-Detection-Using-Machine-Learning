{
  "nbformat": 4,
  "nbformat_minor": 0,
  "metadata": {
    "colab": {
      "name": "Linear_Regression_Houses.ipynb",
      "provenance": [],
      "authorship_tag": "ABX9TyNhd+r9DASGc2OPrDkEqhxv",
      "include_colab_link": true
    },
    "kernelspec": {
      "name": "python3",
      "display_name": "Python 3"
    }
  },
  "cells": [
    {
      "cell_type": "markdown",
      "metadata": {
        "id": "view-in-github",
        "colab_type": "text"
      },
      "source": [
        "<a href=\"https://colab.research.google.com/github/baharababah/Linear_Regression_StepByStep/blob/main/Linear_Regression_Houses.ipynb\" target=\"_parent\"><img src=\"https://colab.research.google.com/assets/colab-badge.svg\" alt=\"Open In Colab\"/></a>"
      ]
    },
    {
      "cell_type": "code",
      "metadata": {
        "colab": {
          "base_uri": "https://localhost:8080/",
          "height": 245
        },
        "id": "eRsMK6IcgQU4",
        "outputId": "5839b18f-a21c-4239-9e70-d45293962b37"
      },
      "source": [
        "# --------------------------------------------------------------\r\n",
        "# Simple Linear Regression for house prices \r\n",
        "# The dataset was obtained from https://github.com/Shreyas3108/house-price-prediction\r\n",
        "# --------------------------------------------------------------\r\n",
        "from google.colab import drive \r\n",
        "drive.mount('/content/drive/')\r\n",
        "# ----------------------------------------------\r\n",
        "# Step 0 - Import Libraries\r\n",
        "# ---------------------------------------------\r\n",
        "import pandas as pd\r\n",
        "import matplotlib.pyplot as plt\r\n",
        "import numpy as np\r\n",
        "import math\r\n",
        "from sklearn import datasets\r\n",
        "# ----------------------------------------------\r\n",
        "# Step 1 - Read the data\r\n",
        "# ----------------------------------------------\r\n",
        "houses = pd.read_csv('/content/drive/My Drive/kc_house_data.csv')\r\n",
        "houses.head()"
      ],
      "execution_count": 63,
      "outputs": [
        {
          "output_type": "stream",
          "text": [
            "Drive already mounted at /content/drive/; to attempt to forcibly remount, call drive.mount(\"/content/drive/\", force_remount=True).\n"
          ],
          "name": "stdout"
        },
        {
          "output_type": "execute_result",
          "data": {
            "text/html": [
              "<div>\n",
              "<style scoped>\n",
              "    .dataframe tbody tr th:only-of-type {\n",
              "        vertical-align: middle;\n",
              "    }\n",
              "\n",
              "    .dataframe tbody tr th {\n",
              "        vertical-align: top;\n",
              "    }\n",
              "\n",
              "    .dataframe thead th {\n",
              "        text-align: right;\n",
              "    }\n",
              "</style>\n",
              "<table border=\"1\" class=\"dataframe\">\n",
              "  <thead>\n",
              "    <tr style=\"text-align: right;\">\n",
              "      <th></th>\n",
              "      <th>id</th>\n",
              "      <th>date</th>\n",
              "      <th>price</th>\n",
              "      <th>bedrooms</th>\n",
              "      <th>bathrooms</th>\n",
              "      <th>sqft_living</th>\n",
              "      <th>sqft_lot</th>\n",
              "      <th>floors</th>\n",
              "      <th>waterfront</th>\n",
              "      <th>view</th>\n",
              "      <th>condition</th>\n",
              "      <th>grade</th>\n",
              "      <th>sqft_above</th>\n",
              "      <th>sqft_basement</th>\n",
              "      <th>yr_built</th>\n",
              "      <th>yr_renovated</th>\n",
              "      <th>zipcode</th>\n",
              "      <th>lat</th>\n",
              "      <th>long</th>\n",
              "      <th>sqft_living15</th>\n",
              "      <th>sqft_lot15</th>\n",
              "    </tr>\n",
              "  </thead>\n",
              "  <tbody>\n",
              "    <tr>\n",
              "      <th>0</th>\n",
              "      <td>7129300520</td>\n",
              "      <td>20141013T000000</td>\n",
              "      <td>221900.0</td>\n",
              "      <td>3</td>\n",
              "      <td>1.00</td>\n",
              "      <td>1180</td>\n",
              "      <td>5650</td>\n",
              "      <td>1.0</td>\n",
              "      <td>0</td>\n",
              "      <td>0</td>\n",
              "      <td>3</td>\n",
              "      <td>7</td>\n",
              "      <td>1180</td>\n",
              "      <td>0</td>\n",
              "      <td>1955</td>\n",
              "      <td>0</td>\n",
              "      <td>98178</td>\n",
              "      <td>47.5112</td>\n",
              "      <td>-122.257</td>\n",
              "      <td>1340</td>\n",
              "      <td>5650</td>\n",
              "    </tr>\n",
              "    <tr>\n",
              "      <th>1</th>\n",
              "      <td>6414100192</td>\n",
              "      <td>20141209T000000</td>\n",
              "      <td>538000.0</td>\n",
              "      <td>3</td>\n",
              "      <td>2.25</td>\n",
              "      <td>2570</td>\n",
              "      <td>7242</td>\n",
              "      <td>2.0</td>\n",
              "      <td>0</td>\n",
              "      <td>0</td>\n",
              "      <td>3</td>\n",
              "      <td>7</td>\n",
              "      <td>2170</td>\n",
              "      <td>400</td>\n",
              "      <td>1951</td>\n",
              "      <td>1991</td>\n",
              "      <td>98125</td>\n",
              "      <td>47.7210</td>\n",
              "      <td>-122.319</td>\n",
              "      <td>1690</td>\n",
              "      <td>7639</td>\n",
              "    </tr>\n",
              "    <tr>\n",
              "      <th>2</th>\n",
              "      <td>5631500400</td>\n",
              "      <td>20150225T000000</td>\n",
              "      <td>180000.0</td>\n",
              "      <td>2</td>\n",
              "      <td>1.00</td>\n",
              "      <td>770</td>\n",
              "      <td>10000</td>\n",
              "      <td>1.0</td>\n",
              "      <td>0</td>\n",
              "      <td>0</td>\n",
              "      <td>3</td>\n",
              "      <td>6</td>\n",
              "      <td>770</td>\n",
              "      <td>0</td>\n",
              "      <td>1933</td>\n",
              "      <td>0</td>\n",
              "      <td>98028</td>\n",
              "      <td>47.7379</td>\n",
              "      <td>-122.233</td>\n",
              "      <td>2720</td>\n",
              "      <td>8062</td>\n",
              "    </tr>\n",
              "    <tr>\n",
              "      <th>3</th>\n",
              "      <td>2487200875</td>\n",
              "      <td>20141209T000000</td>\n",
              "      <td>604000.0</td>\n",
              "      <td>4</td>\n",
              "      <td>3.00</td>\n",
              "      <td>1960</td>\n",
              "      <td>5000</td>\n",
              "      <td>1.0</td>\n",
              "      <td>0</td>\n",
              "      <td>0</td>\n",
              "      <td>5</td>\n",
              "      <td>7</td>\n",
              "      <td>1050</td>\n",
              "      <td>910</td>\n",
              "      <td>1965</td>\n",
              "      <td>0</td>\n",
              "      <td>98136</td>\n",
              "      <td>47.5208</td>\n",
              "      <td>-122.393</td>\n",
              "      <td>1360</td>\n",
              "      <td>5000</td>\n",
              "    </tr>\n",
              "    <tr>\n",
              "      <th>4</th>\n",
              "      <td>1954400510</td>\n",
              "      <td>20150218T000000</td>\n",
              "      <td>510000.0</td>\n",
              "      <td>3</td>\n",
              "      <td>2.00</td>\n",
              "      <td>1680</td>\n",
              "      <td>8080</td>\n",
              "      <td>1.0</td>\n",
              "      <td>0</td>\n",
              "      <td>0</td>\n",
              "      <td>3</td>\n",
              "      <td>8</td>\n",
              "      <td>1680</td>\n",
              "      <td>0</td>\n",
              "      <td>1987</td>\n",
              "      <td>0</td>\n",
              "      <td>98074</td>\n",
              "      <td>47.6168</td>\n",
              "      <td>-122.045</td>\n",
              "      <td>1800</td>\n",
              "      <td>7503</td>\n",
              "    </tr>\n",
              "  </tbody>\n",
              "</table>\n",
              "</div>"
            ],
            "text/plain": [
              "           id             date     price  bedrooms  bathrooms  sqft_living  \\\n",
              "0  7129300520  20141013T000000  221900.0         3       1.00         1180   \n",
              "1  6414100192  20141209T000000  538000.0         3       2.25         2570   \n",
              "2  5631500400  20150225T000000  180000.0         2       1.00          770   \n",
              "3  2487200875  20141209T000000  604000.0         4       3.00         1960   \n",
              "4  1954400510  20150218T000000  510000.0         3       2.00         1680   \n",
              "\n",
              "   sqft_lot  floors  waterfront  view  condition  grade  sqft_above  \\\n",
              "0      5650     1.0           0     0          3      7        1180   \n",
              "1      7242     2.0           0     0          3      7        2170   \n",
              "2     10000     1.0           0     0          3      6         770   \n",
              "3      5000     1.0           0     0          5      7        1050   \n",
              "4      8080     1.0           0     0          3      8        1680   \n",
              "\n",
              "   sqft_basement  yr_built  yr_renovated  zipcode      lat     long  \\\n",
              "0              0      1955             0    98178  47.5112 -122.257   \n",
              "1            400      1951          1991    98125  47.7210 -122.319   \n",
              "2              0      1933             0    98028  47.7379 -122.233   \n",
              "3            910      1965             0    98136  47.5208 -122.393   \n",
              "4              0      1987             0    98074  47.6168 -122.045   \n",
              "\n",
              "   sqft_living15  sqft_lot15  \n",
              "0           1340        5650  \n",
              "1           1690        7639  \n",
              "2           2720        8062  \n",
              "3           1360        5000  \n",
              "4           1800        7503  "
            ]
          },
          "metadata": {
            "tags": []
          },
          "execution_count": 63
        }
      ]
    },
    {
      "cell_type": "code",
      "metadata": {
        "colab": {
          "base_uri": "https://localhost:8080/"
        },
        "id": "1n4fQLXNuT-h",
        "outputId": "41fa13f2-eced-4955-a79a-42fa01d54471"
      },
      "source": [
        "# Show the columns names and the datatype they have.\r\n",
        "houses.dtypes\r\n"
      ],
      "execution_count": 64,
      "outputs": [
        {
          "output_type": "execute_result",
          "data": {
            "text/plain": [
              "id                 int64\n",
              "date              object\n",
              "price            float64\n",
              "bedrooms           int64\n",
              "bathrooms        float64\n",
              "sqft_living        int64\n",
              "sqft_lot           int64\n",
              "floors           float64\n",
              "waterfront         int64\n",
              "view               int64\n",
              "condition          int64\n",
              "grade              int64\n",
              "sqft_above         int64\n",
              "sqft_basement      int64\n",
              "yr_built           int64\n",
              "yr_renovated       int64\n",
              "zipcode            int64\n",
              "lat              float64\n",
              "long             float64\n",
              "sqft_living15      int64\n",
              "sqft_lot15         int64\n",
              "dtype: object"
            ]
          },
          "metadata": {
            "tags": []
          },
          "execution_count": 64
        }
      ]
    },
    {
      "cell_type": "code",
      "metadata": {
        "colab": {
          "base_uri": "https://localhost:8080/"
        },
        "id": "y69x01vqb0Ag",
        "outputId": "b4a6ac45-605c-49e6-9a67-6f0d93fed24f"
      },
      "source": [
        "# ----------------------------------------------\r\n",
        "# Step 2 - Prelim Analysis and Feature selection\r\n",
        "# ----------------------------------------------\r\n",
        "# In order to save the orignal copy of the datafarme, we copy it to a new dataframe called houses_prep to start process and analyse the data.\r\n",
        "houses_prep = houses.copy()\r\n",
        "# we drop the columns of date and id because it will not affect the prediction.\r\n",
        "# we drop the column of zipcode even we can use the first digits as an area indicators.\r\n",
        "houses_prep = houses_prep.drop(['date', 'id', 'zipcode'], axis=1)\r\n",
        "# we check if there is any missing value.\r\n",
        "houses_prep.isnull().sum()"
      ],
      "execution_count": 65,
      "outputs": [
        {
          "output_type": "execute_result",
          "data": {
            "text/plain": [
              "price            0\n",
              "bedrooms         0\n",
              "bathrooms        0\n",
              "sqft_living      0\n",
              "sqft_lot         0\n",
              "floors           0\n",
              "waterfront       0\n",
              "view             0\n",
              "condition        0\n",
              "grade            0\n",
              "sqft_above       0\n",
              "sqft_basement    0\n",
              "yr_built         0\n",
              "yr_renovated     0\n",
              "lat              0\n",
              "long             0\n",
              "sqft_living15    0\n",
              "sqft_lot15       0\n",
              "dtype: int64"
            ]
          },
          "metadata": {
            "tags": []
          },
          "execution_count": 65
        }
      ]
    },
    {
      "cell_type": "code",
      "metadata": {
        "colab": {
          "base_uri": "https://localhost:8080/",
          "height": 331
        },
        "id": "cVk0KWcsaJyW",
        "outputId": "42046c55-dc41-46ea-88a0-6703f8322806"
      },
      "source": [
        "# Create pandas histogram to check if the price is normal distribution\r\n",
        "houses_prep.hist(column= 'price', rwidth = 0.9)"
      ],
      "execution_count": 66,
      "outputs": [
        {
          "output_type": "execute_result",
          "data": {
            "text/plain": [
              "array([[<matplotlib.axes._subplots.AxesSubplot object at 0x7fc2a7ccbcc0>]],\n",
              "      dtype=object)"
            ]
          },
          "metadata": {
            "tags": []
          },
          "execution_count": 66
        },
        {
          "output_type": "display_data",
          "data": {
            "image/png": "[encoded data removed]",
            "text/plain": [
              "<Figure size 432x288 with 1 Axes>"
            ]
          },
          "metadata": {
            "tags": [],
            "needs_background": "light"
          }
        }
      ]
    },
    {
      "cell_type": "markdown",
      "metadata": {
        "id": "-RpiNt1AVOwl"
      },
      "source": [
        "The histogram shows that price variable is not Normally Distributed"
      ]
    },
    {
      "cell_type": "code",
      "metadata": {
        "colab": {
          "base_uri": "https://localhost:8080/",
          "height": 585
        },
        "id": "5d47c_Yoe4z4",
        "outputId": "adb9748f-042a-4bd5-fe5e-e0c9186dec7a"
      },
      "source": [
        "# ----------------------------------------------\r\n",
        "# Step 3 - Data Visualisation\r\n",
        "# ----------------------------------------------\r\n",
        "#price            float64\r\n",
        "# Visualise the continuous features Vs price\r\n",
        "# The continuous features are sqft_living , sqft_lot, sqft_above , sqft_basement , lat , long  , sqft_living15 , sqft_lot15.\r\n",
        "fig = plt.figure(figsize=(8, 8))\r\n",
        "plt.subplot(4,2,1) \r\n",
        "plt.title('sqft_living Vs price')\r\n",
        "plt.scatter(houses_prep['sqft_living'], houses_prep['price'], s=2, c='g')\r\n",
        "plt.tight_layout()\r\n",
        "\r\n",
        "plt.subplot(4,2,2) \r\n",
        "plt.title('sqft_lot Vs price')\r\n",
        "plt.scatter(houses_prep['sqft_lot'], houses_prep['price'], s=2, c='r')\r\n",
        "plt.tight_layout()\r\n",
        "\r\n",
        "\r\n",
        "plt.subplot(4,2,3) \r\n",
        "plt.title('sqft_above Vs price')\r\n",
        "plt.scatter(houses_prep['sqft_above'], houses_prep['price'], s=2, c='b')\r\n",
        "plt.tight_layout()\r\n",
        "\r\n",
        "plt.subplot(4,2,4) \r\n",
        "plt.title('sqft_basement Vs price')\r\n",
        "plt.scatter(houses_prep['sqft_basement'], houses_prep['price'], s=2, c='y')\r\n",
        "plt.tight_layout()\r\n",
        "\r\n",
        "plt.subplot(4,2,5) \r\n",
        "plt.title('lat Vs price')\r\n",
        "plt.scatter(houses_prep['lat'], houses_prep['price'], s=2, c='b')\r\n",
        "plt.tight_layout()\r\n",
        "\r\n",
        "plt.subplot(4,2,6) \r\n",
        "plt.title(' long Vs price')\r\n",
        "plt.scatter(houses_prep['long'], houses_prep['price'], s=2, c='y')\r\n",
        "plt.tight_layout()\r\n",
        "\r\n",
        "plt.subplot(4,2,7) \r\n",
        "plt.title(' sqft_living15  Vs price')\r\n",
        "plt.scatter(houses_prep['sqft_living15'], houses_prep['price'], s=2, c='r')\r\n",
        "plt.tight_layout()\r\n",
        "\r\n",
        "\r\n",
        "plt.subplot(4,2,8) \r\n",
        "plt.title('sqft_lot15 Vs price')\r\n",
        "plt.scatter(houses_prep['sqft_lot15'], houses_prep['price'], s=1, c='r')\r\n",
        "plt.tight_layout()\r\n"
      ],
      "execution_count": 67,
      "outputs": [
        {
          "output_type": "display_data",
          "data": {
            "image/png": "[encoded data removed]",
            "text/plain": [
              "<Figure size 576x576 with 8 Axes>"
            ]
          },
          "metadata": {
            "tags": [],
            "needs_background": "light"
          }
        }
      ]
    },
    {
      "cell_type": "markdown",
      "metadata": {
        "id": "u0MDslEjV-oY"
      },
      "source": [
        "**The scatter plots show that:**\r\n",
        "1.   The price increase while sqft_living increase\r\n",
        "2.   The price increase while sqft_above increase.\r\n",
        "3.   The price increase while sqft_living15 increase.\r\n",
        "4.   The graphes of sqft_living, sqft_above, sqft_living15 are very similar."
      ]
    },
    {
      "cell_type": "code",
      "metadata": {
        "colab": {
          "base_uri": "https://localhost:8080/",
          "height": 585
        },
        "id": "qh9Sj5G6mKoU",
        "outputId": "8b16cffc-9f7e-4d95-a7c1-368ab0243383"
      },
      "source": [
        "# Visualise the categorical features\r\n",
        "colors = ['g', 'r', 'm', 'b']\r\n",
        "fig = plt.figure(figsize=(8, 8))\r\n",
        "plt.subplot(4,2,1)\r\n",
        "plt.title('Average Price vs bedrooms')\r\n",
        "cat_list = houses_prep['bedrooms'].unique()\r\n",
        "cat_average = houses_prep.groupby('bedrooms').mean()['price']\r\n",
        "plt.bar(cat_list, cat_average, color=colors)\r\n",
        "plt.tight_layout()\r\n",
        "\r\n",
        "plt.subplot(4,2,2)\r\n",
        "plt.title('Average Price vs bathrooms')\r\n",
        "cat_list = houses_prep['bathrooms'].unique()\r\n",
        "cat_average = houses_prep.groupby('bathrooms').mean()['price']\r\n",
        "plt.bar(cat_list, cat_average, color=colors)\r\n",
        "plt.tight_layout()\r\n",
        "\r\n",
        "plt.subplot(4,2,3)\r\n",
        "plt.title('Average Price vs floors')\r\n",
        "cat_list = houses_prep['floors'].unique()\r\n",
        "cat_average = houses_prep.groupby('floors').mean()['price']\r\n",
        "plt.bar(cat_list, cat_average, color=colors)\r\n",
        "plt.tight_layout()\r\n",
        "\r\n",
        "plt.subplot(4,2,4)\r\n",
        "plt.title('Average Price vs waterfront')\r\n",
        "cat_list = houses_prep['waterfront'].unique()\r\n",
        "cat_average = houses_prep.groupby('waterfront').mean()['price']\r\n",
        "plt.bar(cat_list, cat_average, color=colors)\r\n",
        "plt.tight_layout()\r\n",
        "\r\n",
        "\r\n",
        "plt.subplot(4,2,5)\r\n",
        "plt.title('Average Price vs condition')\r\n",
        "cat_list = houses_prep['condition'].unique()\r\n",
        "cat_average = houses_prep.groupby('condition').mean()['price']\r\n",
        "plt.bar(cat_list, cat_average, color=colors)\r\n",
        "plt.tight_layout()\r\n",
        "\r\n",
        "plt.subplot(4,2,6)\r\n",
        "plt.title('Average Price vs yr_built')\r\n",
        "cat_list = houses_prep['yr_built'].unique()\r\n",
        "cat_average = houses_prep.groupby('yr_built').mean()['price']\r\n",
        "plt.bar(cat_list, cat_average, color=colors)\r\n",
        "plt.tight_layout()\r\n",
        "\r\n",
        "plt.subplot(4,2,7)\r\n",
        "plt.title('Average Price vs yr_renovated')\r\n",
        "cat_list = houses_prep['yr_renovated'].unique()\r\n",
        "cat_average = houses_prep.groupby('yr_renovated').mean()['price']\r\n",
        "plt.bar(cat_list, cat_average, color=colors)\r\n",
        "plt.tight_layout()\r\n",
        "\r\n"
      ],
      "execution_count": 68,
      "outputs": [
        {
          "output_type": "display_data",
          "data": {
            "image/png": "[encoded data removed]",
            "text/plain": [
              "<Figure size 576x576 with 7 Axes>"
            ]
          },
          "metadata": {
            "tags": [],
            "needs_background": "light"
          }
        }
      ]
    },
    {
      "cell_type": "markdown",
      "metadata": {
        "id": "sg4Zcjo0YiYI"
      },
      "source": [
        "The graph"
      ]
    },
    {
      "cell_type": "code",
      "metadata": {
        "colab": {
          "base_uri": "https://localhost:8080/"
        },
        "id": "wLwCx7kWovnU",
        "outputId": "1a591aaa-4791-4a40-ee88-f58a3c0bf512"
      },
      "source": [
        "# Check for outliers\r\n",
        "houses_prep['price'].describe().apply(\"{0:.5f}\".format)"
      ],
      "execution_count": 69,
      "outputs": [
        {
          "output_type": "execute_result",
          "data": {
            "text/plain": [
              "count      21613.00000\n",
              "mean      540088.14177\n",
              "std       367127.19648\n",
              "min        75000.00000\n",
              "25%       321950.00000\n",
              "50%       450000.00000\n",
              "75%       645000.00000\n",
              "max      7700000.00000\n",
              "Name: price, dtype: object"
            ]
          },
          "metadata": {
            "tags": []
          },
          "execution_count": 69
        }
      ]
    },
    {
      "cell_type": "markdown",
      "metadata": {
        "id": "_YTYUQW1vuZY"
      },
      "source": [
        "50% of the prices are between 321950 and 645000.\r\n",
        "The differences between the mean and the max is too large."
      ]
    },
    {
      "cell_type": "code",
      "metadata": {
        "colab": {
          "base_uri": "https://localhost:8080/"
        },
        "id": "w_j7yQQ1ryB_",
        "outputId": "42a0af15-aa7f-4788-a9d5-553c83c873c2"
      },
      "source": [
        "houses_prep['price'].quantile([0.05, 0.1, 0.15, 0.5, 0.9, 0.95, 0.99])"
      ],
      "execution_count": 70,
      "outputs": [
        {
          "output_type": "execute_result",
          "data": {
            "text/plain": [
              "0.05     210000.0\n",
              "0.10     245000.0\n",
              "0.15     270000.0\n",
              "0.50     450000.0\n",
              "0.90     887000.0\n",
              "0.95    1156480.0\n",
              "0.99    1964400.0\n",
              "Name: price, dtype: float64"
            ]
          },
          "metadata": {
            "tags": []
          },
          "execution_count": 70
        }
      ]
    },
    {
      "cell_type": "markdown",
      "metadata": {
        "id": "U7jADj-Kx4ih"
      },
      "source": [
        "It is now clear thatr there are Outliers in the data."
      ]
    },
    {
      "cell_type": "code",
      "metadata": {
        "colab": {
          "base_uri": "https://localhost:8080/"
        },
        "id": "g9Ic9-4hslyR",
        "outputId": "be0208b6-255f-460d-cfba-b0a07ebecde3"
      },
      "source": [
        "# ------------------------------------------------------\r\n",
        "# Step 4 - Check Multiple Linear Regression Assumptions\r\n",
        "# ------------------------------------------------------\r\n",
        "# Linearity using correlation coefficient matrix using corr\r\n",
        "pd.options.display.max_columns = None\r\n",
        "correlation = houses_prep[['sqft_living', 'sqft_above', 'lat', 'sqft_basement', 'long', 'sqft_living15', 'price']].corr()\r\n",
        "print(correlation)"
      ],
      "execution_count": 71,
      "outputs": [
        {
          "output_type": "stream",
          "text": [
            "               sqft_living  sqft_above       lat  sqft_basement      long  \\\n",
            "sqft_living       1.000000    0.876597  0.052529       0.435043  0.240223   \n",
            "sqft_above        0.876597    1.000000 -0.000816      -0.051943  0.343803   \n",
            "lat               0.052529   -0.000816  1.000000       0.110538 -0.135512   \n",
            "sqft_basement     0.435043   -0.051943  0.110538       1.000000 -0.144765   \n",
            "long              0.240223    0.343803 -0.135512      -0.144765  1.000000   \n",
            "sqft_living15     0.756420    0.731870  0.048858       0.200355  0.334605   \n",
            "price             0.702035    0.605567  0.307003       0.323816  0.021626   \n",
            "\n",
            "               sqft_living15     price  \n",
            "sqft_living         0.756420  0.702035  \n",
            "sqft_above          0.731870  0.605567  \n",
            "lat                 0.048858  0.307003  \n",
            "sqft_basement       0.200355  0.323816  \n",
            "long                0.334605  0.021626  \n",
            "sqft_living15       1.000000  0.585379  \n",
            "price               0.585379  1.000000  \n"
          ],
          "name": "stdout"
        }
      ]
    },
    {
      "cell_type": "markdown",
      "metadata": {
        "id": "eePE5aQNRxCd"
      },
      "source": [
        "we are going to drop (long ) becuase it does not have correlation with the price.\r\n",
        "\r\n",
        "we are also going to drop the sqft_above because its correlation with sqft_living is high so one variable is enough."
      ]
    },
    {
      "cell_type": "code",
      "metadata": {
        "id": "aecYeE5sTdQT"
      },
      "source": [
        "# Step 5 - Drop irrelevant features\r\n",
        "houses_prep = houses_prep.drop(['sqft_above', 'long'], axis=1)\r\n"
      ],
      "execution_count": 72,
      "outputs": []
    },
    {
      "cell_type": "code",
      "metadata": {
        "colab": {
          "base_uri": "https://localhost:8080/",
          "height": 226
        },
        "id": "t0h9UnHLU63J",
        "outputId": "9ddc7d85-71b8-49ae-f47a-b8377486c678"
      },
      "source": [
        "houses_prep.head()"
      ],
      "execution_count": 73,
      "outputs": [
        {
          "output_type": "execute_result",
          "data": {
            "text/html": [
              "<div>\n",
              "<style scoped>\n",
              "    .dataframe tbody tr th:only-of-type {\n",
              "        vertical-align: middle;\n",
              "    }\n",
              "\n",
              "    .dataframe tbody tr th {\n",
              "        vertical-align: top;\n",
              "    }\n",
              "\n",
              "    .dataframe thead th {\n",
              "        text-align: right;\n",
              "    }\n",
              "</style>\n",
              "<table border=\"1\" class=\"dataframe\">\n",
              "  <thead>\n",
              "    <tr style=\"text-align: right;\">\n",
              "      <th></th>\n",
              "      <th>price</th>\n",
              "      <th>bedrooms</th>\n",
              "      <th>bathrooms</th>\n",
              "      <th>sqft_living</th>\n",
              "      <th>sqft_lot</th>\n",
              "      <th>floors</th>\n",
              "      <th>waterfront</th>\n",
              "      <th>view</th>\n",
              "      <th>condition</th>\n",
              "      <th>grade</th>\n",
              "      <th>sqft_basement</th>\n",
              "      <th>yr_built</th>\n",
              "      <th>yr_renovated</th>\n",
              "      <th>lat</th>\n",
              "      <th>sqft_living15</th>\n",
              "      <th>sqft_lot15</th>\n",
              "    </tr>\n",
              "  </thead>\n",
              "  <tbody>\n",
              "    <tr>\n",
              "      <th>0</th>\n",
              "      <td>221900.0</td>\n",
              "      <td>3</td>\n",
              "      <td>1.00</td>\n",
              "      <td>1180</td>\n",
              "      <td>5650</td>\n",
              "      <td>1.0</td>\n",
              "      <td>0</td>\n",
              "      <td>0</td>\n",
              "      <td>3</td>\n",
              "      <td>7</td>\n",
              "      <td>0</td>\n",
              "      <td>1955</td>\n",
              "      <td>0</td>\n",
              "      <td>47.5112</td>\n",
              "      <td>1340</td>\n",
              "      <td>5650</td>\n",
              "    </tr>\n",
              "    <tr>\n",
              "      <th>1</th>\n",
              "      <td>538000.0</td>\n",
              "      <td>3</td>\n",
              "      <td>2.25</td>\n",
              "      <td>2570</td>\n",
              "      <td>7242</td>\n",
              "      <td>2.0</td>\n",
              "      <td>0</td>\n",
              "      <td>0</td>\n",
              "      <td>3</td>\n",
              "      <td>7</td>\n",
              "      <td>400</td>\n",
              "      <td>1951</td>\n",
              "      <td>1991</td>\n",
              "      <td>47.7210</td>\n",
              "      <td>1690</td>\n",
              "      <td>7639</td>\n",
              "    </tr>\n",
              "    <tr>\n",
              "      <th>2</th>\n",
              "      <td>180000.0</td>\n",
              "      <td>2</td>\n",
              "      <td>1.00</td>\n",
              "      <td>770</td>\n",
              "      <td>10000</td>\n",
              "      <td>1.0</td>\n",
              "      <td>0</td>\n",
              "      <td>0</td>\n",
              "      <td>3</td>\n",
              "      <td>6</td>\n",
              "      <td>0</td>\n",
              "      <td>1933</td>\n",
              "      <td>0</td>\n",
              "      <td>47.7379</td>\n",
              "      <td>2720</td>\n",
              "      <td>8062</td>\n",
              "    </tr>\n",
              "    <tr>\n",
              "      <th>3</th>\n",
              "      <td>604000.0</td>\n",
              "      <td>4</td>\n",
              "      <td>3.00</td>\n",
              "      <td>1960</td>\n",
              "      <td>5000</td>\n",
              "      <td>1.0</td>\n",
              "      <td>0</td>\n",
              "      <td>0</td>\n",
              "      <td>5</td>\n",
              "      <td>7</td>\n",
              "      <td>910</td>\n",
              "      <td>1965</td>\n",
              "      <td>0</td>\n",
              "      <td>47.5208</td>\n",
              "      <td>1360</td>\n",
              "      <td>5000</td>\n",
              "    </tr>\n",
              "    <tr>\n",
              "      <th>4</th>\n",
              "      <td>510000.0</td>\n",
              "      <td>3</td>\n",
              "      <td>2.00</td>\n",
              "      <td>1680</td>\n",
              "      <td>8080</td>\n",
              "      <td>1.0</td>\n",
              "      <td>0</td>\n",
              "      <td>0</td>\n",
              "      <td>3</td>\n",
              "      <td>8</td>\n",
              "      <td>0</td>\n",
              "      <td>1987</td>\n",
              "      <td>0</td>\n",
              "      <td>47.6168</td>\n",
              "      <td>1800</td>\n",
              "      <td>7503</td>\n",
              "    </tr>\n",
              "  </tbody>\n",
              "</table>\n",
              "</div>"
            ],
            "text/plain": [
              "      price  bedrooms  bathrooms  sqft_living  sqft_lot  floors  waterfront  \\\n",
              "0  221900.0         3       1.00         1180      5650     1.0           0   \n",
              "1  538000.0         3       2.25         2570      7242     2.0           0   \n",
              "2  180000.0         2       1.00          770     10000     1.0           0   \n",
              "3  604000.0         4       3.00         1960      5000     1.0           0   \n",
              "4  510000.0         3       2.00         1680      8080     1.0           0   \n",
              "\n",
              "   view  condition  grade  sqft_basement  yr_built  yr_renovated      lat  \\\n",
              "0     0          3      7              0      1955             0  47.5112   \n",
              "1     0          3      7            400      1951          1991  47.7210   \n",
              "2     0          3      6              0      1933             0  47.7379   \n",
              "3     0          5      7            910      1965             0  47.5208   \n",
              "4     0          3      8              0      1987             0  47.6168   \n",
              "\n",
              "   sqft_living15  sqft_lot15  \n",
              "0           1340        5650  \n",
              "1           1690        7639  \n",
              "2           2720        8062  \n",
              "3           1360        5000  \n",
              "4           1800        7503  "
            ]
          },
          "metadata": {
            "tags": []
          },
          "execution_count": 73
        }
      ]
    },
    {
      "cell_type": "code",
      "metadata": {
        "colab": {
          "base_uri": "https://localhost:8080/",
          "height": 527
        },
        "id": "NG6rjCs7aSZZ",
        "outputId": "0aa350e2-92e1-42dc-ce1a-4efead5155f7"
      },
      "source": [
        "# ------------------------------------------------------\r\n",
        "# Step 6 - Create/Modify new features\r\n",
        "# ------------------------------------------------------\r\n",
        "\r\n",
        "#The price is currently log normal distribution, we want to change it to normal distribution in the next step.\r\n",
        "\r\n",
        "df1= houses_prep['price']\r\n",
        "df2= np.log(df1)\r\n",
        "\r\n",
        "plt.figure()\r\n",
        "df1.hist(rwidth=0.9, bins=20)\r\n",
        "\r\n",
        "plt.figure()\r\n",
        "df2.hist(rwidth=0.9, bins=20)\r\n",
        "houses_prep['price']= np.log(houses_prep['price'])"
      ],
      "execution_count": 74,
      "outputs": [
        {
          "output_type": "display_data",
          "data": {
            "image/png": "[encoded data removed]",
            "text/plain": [
              "<Figure size 432x288 with 1 Axes>"
            ]
          },
          "metadata": {
            "tags": [],
            "needs_background": "light"
          }
        },
        {
          "output_type": "display_data",
          "data": {
            "image/png": "[encoded data removed]",
            "text/plain": [
              "<Figure size 432x288 with 1 Axes>"
            ]
          },
          "metadata": {
            "tags": [],
            "needs_background": "light"
          }
        }
      ]
    },
    {
      "cell_type": "code",
      "metadata": {
        "colab": {
          "base_uri": "https://localhost:8080/"
        },
        "id": "PYiBNPgRe89H",
        "outputId": "15c7109f-cd9d-4c8b-a2b4-5a21dac6f08f"
      },
      "source": [
        "# -----------------------------------------------------------------------------\r\n",
        "# Step 7 - Create Dummy Variables and drop first to avoid dummy variables trap\r\n",
        "# -----------------------------------------------------------------------------\r\n",
        "# - bedrooms         0\r\n",
        "# - bathrooms \r\n",
        "# - floors\r\n",
        "# - waterfront\r\n",
        "# - view\r\n",
        "# - condition\r\n",
        "# - grade\r\n",
        "# - yr_built\r\n",
        "# - yr_renovated\r\n",
        "# Using get_dummies\r\n",
        "\r\n",
        "houses_prep['bedrooms'] = houses_prep['bedrooms'].astype('category')\r\n",
        "houses_prep['bathrooms'] = houses_prep['bathrooms'].astype('category')\r\n",
        "houses_prep['floors'] = houses_prep['floors'].astype('category')\r\n",
        "houses_prep['waterfront'] = houses_prep['waterfront'].astype('category')\r\n",
        "houses_prep['view'] = houses_prep['view'].astype('category')\r\n",
        "houses_prep['condition'] = houses_prep['condition'].astype('category')\r\n",
        "houses_prep['grade'] = houses_prep['grade'].astype('category')\r\n",
        "houses_prep['yr_built'] = houses_prep['yr_built'].astype('category')\r\n",
        "houses_prep['yr_renovated'] = houses_prep['yr_renovated'].astype('category')\r\n",
        "houses_prep = pd.get_dummies(houses_prep, drop_first=True)\r\n",
        "print(houses_prep.head())"
      ],
      "execution_count": 75,
      "outputs": [
        {
          "output_type": "stream",
          "text": [
            "       price  sqft_living  sqft_lot  sqft_basement      lat  sqft_living15  \\\n",
            "0  12.309982         1180      5650              0  47.5112           1340   \n",
            "1  13.195614         2570      7242            400  47.7210           1690   \n",
            "2  12.100712          770     10000              0  47.7379           2720   \n",
            "3  13.311329         1960      5000            910  47.5208           1360   \n",
            "4  13.142166         1680      8080              0  47.6168           1800   \n",
            "\n",
            "   sqft_lot15  bedrooms_1  bedrooms_2  bedrooms_3  bedrooms_4  bedrooms_5  \\\n",
            "0        5650           0           0           1           0           0   \n",
            "1        7639           0           0           1           0           0   \n",
            "2        8062           0           1           0           0           0   \n",
            "3        5000           0           0           0           1           0   \n",
            "4        7503           0           0           1           0           0   \n",
            "\n",
            "   bedrooms_6  bedrooms_7  bedrooms_8  bedrooms_9  bedrooms_10  bedrooms_11  \\\n",
            "0           0           0           0           0            0            0   \n",
            "1           0           0           0           0            0            0   \n",
            "2           0           0           0           0            0            0   \n",
            "3           0           0           0           0            0            0   \n",
            "4           0           0           0           0            0            0   \n",
            "\n",
            "   bedrooms_33  bathrooms_0.5  bathrooms_0.75  bathrooms_1.0  bathrooms_1.25  \\\n",
            "0            0              0               0              1               0   \n",
            "1            0              0               0              0               0   \n",
            "2            0              0               0              1               0   \n",
            "3            0              0               0              0               0   \n",
            "4            0              0               0              0               0   \n",
            "\n",
            "   bathrooms_1.5  bathrooms_1.75  bathrooms_2.0  bathrooms_2.25  \\\n",
            "0              0               0              0               0   \n",
            "1              0               0              0               1   \n",
            "2              0               0              0               0   \n",
            "3              0               0              0               0   \n",
            "4              0               0              1               0   \n",
            "\n",
            "   bathrooms_2.5  bathrooms_2.75  bathrooms_3.0  bathrooms_3.25  \\\n",
            "0              0               0              0               0   \n",
            "1              0               0              0               0   \n",
            "2              0               0              0               0   \n",
            "3              0               0              1               0   \n",
            "4              0               0              0               0   \n",
            "\n",
            "   bathrooms_3.5  bathrooms_3.75  bathrooms_4.0  bathrooms_4.25  \\\n",
            "0              0               0              0               0   \n",
            "1              0               0              0               0   \n",
            "2              0               0              0               0   \n",
            "3              0               0              0               0   \n",
            "4              0               0              0               0   \n",
            "\n",
            "   bathrooms_4.5  bathrooms_4.75  bathrooms_5.0  bathrooms_5.25  \\\n",
            "0              0               0              0               0   \n",
            "1              0               0              0               0   \n",
            "2              0               0              0               0   \n",
            "3              0               0              0               0   \n",
            "4              0               0              0               0   \n",
            "\n",
            "   bathrooms_5.5  bathrooms_5.75  bathrooms_6.0  bathrooms_6.25  \\\n",
            "0              0               0              0               0   \n",
            "1              0               0              0               0   \n",
            "2              0               0              0               0   \n",
            "3              0               0              0               0   \n",
            "4              0               0              0               0   \n",
            "\n",
            "   bathrooms_6.5  bathrooms_6.75  bathrooms_7.5  bathrooms_7.75  \\\n",
            "0              0               0              0               0   \n",
            "1              0               0              0               0   \n",
            "2              0               0              0               0   \n",
            "3              0               0              0               0   \n",
            "4              0               0              0               0   \n",
            "\n",
            "   bathrooms_8.0  floors_1.5  floors_2.0  floors_2.5  floors_3.0  floors_3.5  \\\n",
            "0              0           0           0           0           0           0   \n",
            "1              0           0           1           0           0           0   \n",
            "2              0           0           0           0           0           0   \n",
            "3              0           0           0           0           0           0   \n",
            "4              0           0           0           0           0           0   \n",
            "\n",
            "   waterfront_1  view_1  view_2  view_3  view_4  condition_2  condition_3  \\\n",
            "0             0       0       0       0       0            0            1   \n",
            "1             0       0       0       0       0            0            1   \n",
            "2             0       0       0       0       0            0            1   \n",
            "3             0       0       0       0       0            0            0   \n",
            "4             0       0       0       0       0            0            1   \n",
            "\n",
            "   condition_4  condition_5  grade_3  grade_4  grade_5  grade_6  grade_7  \\\n",
            "0            0            0        0        0        0        0        1   \n",
            "1            0            0        0        0        0        0        1   \n",
            "2            0            0        0        0        0        1        0   \n",
            "3            0            1        0        0        0        0        1   \n",
            "4            0            0        0        0        0        0        0   \n",
            "\n",
            "   grade_8  grade_9  grade_10  grade_11  grade_12  grade_13  yr_built_1901  \\\n",
            "0        0        0         0         0         0         0              0   \n",
            "1        0        0         0         0         0         0              0   \n",
            "2        0        0         0         0         0         0              0   \n",
            "3        0        0         0         0         0         0              0   \n",
            "4        1        0         0         0         0         0              0   \n",
            "\n",
            "   yr_built_1902  yr_built_1903  yr_built_1904  yr_built_1905  yr_built_1906  \\\n",
            "0              0              0              0              0              0   \n",
            "1              0              0              0              0              0   \n",
            "2              0              0              0              0              0   \n",
            "3              0              0              0              0              0   \n",
            "4              0              0              0              0              0   \n",
            "\n",
            "   yr_built_1907  yr_built_1908  yr_built_1909  yr_built_1910  yr_built_1911  \\\n",
            "0              0              0              0              0              0   \n",
            "1              0              0              0              0              0   \n",
            "2              0              0              0              0              0   \n",
            "3              0              0              0              0              0   \n",
            "4              0              0              0              0              0   \n",
            "\n",
            "   yr_built_1912  yr_built_1913  yr_built_1914  yr_built_1915  yr_built_1916  \\\n",
            "0              0              0              0              0              0   \n",
            "1              0              0              0              0              0   \n",
            "2              0              0              0              0              0   \n",
            "3              0              0              0              0              0   \n",
            "4              0              0              0              0              0   \n",
            "\n",
            "   yr_built_1917  yr_built_1918  yr_built_1919  yr_built_1920  yr_built_1921  \\\n",
            "0              0              0              0              0              0   \n",
            "1              0              0              0              0              0   \n",
            "2              0              0              0              0              0   \n",
            "3              0              0              0              0              0   \n",
            "4              0              0              0              0              0   \n",
            "\n",
            "   yr_built_1922  yr_built_1923  yr_built_1924  yr_built_1925  yr_built_1926  \\\n",
            "0              0              0              0              0              0   \n",
            "1              0              0              0              0              0   \n",
            "2              0              0              0              0              0   \n",
            "3              0              0              0              0              0   \n",
            "4              0              0              0              0              0   \n",
            "\n",
            "   yr_built_1927  yr_built_1928  yr_built_1929  yr_built_1930  yr_built_1931  \\\n",
            "0              0              0              0              0              0   \n",
            "1              0              0              0              0              0   \n",
            "2              0              0              0              0              0   \n",
            "3              0              0              0              0              0   \n",
            "4              0              0              0              0              0   \n",
            "\n",
            "   yr_built_1932  yr_built_1933  yr_built_1934  yr_built_1935  yr_built_1936  \\\n",
            "0              0              0              0              0              0   \n",
            "1              0              0              0              0              0   \n",
            "2              0              1              0              0              0   \n",
            "3              0              0              0              0              0   \n",
            "4              0              0              0              0              0   \n",
            "\n",
            "   yr_built_1937  yr_built_1938  yr_built_1939  yr_built_1940  yr_built_1941  \\\n",
            "0              0              0              0              0              0   \n",
            "1              0              0              0              0              0   \n",
            "2              0              0              0              0              0   \n",
            "3              0              0              0              0              0   \n",
            "4              0              0              0              0              0   \n",
            "\n",
            "   yr_built_1942  yr_built_1943  yr_built_1944  yr_built_1945  yr_built_1946  \\\n",
            "0              0              0              0              0              0   \n",
            "1              0              0              0              0              0   \n",
            "2              0              0              0              0              0   \n",
            "3              0              0              0              0              0   \n",
            "4              0              0              0              0              0   \n",
            "\n",
            "   yr_built_1947  yr_built_1948  yr_built_1949  yr_built_1950  yr_built_1951  \\\n",
            "0              0              0              0              0              0   \n",
            "1              0              0              0              0              1   \n",
            "2              0              0              0              0              0   \n",
            "3              0              0              0              0              0   \n",
            "4              0              0              0              0              0   \n",
            "\n",
            "   yr_built_1952  yr_built_1953  yr_built_1954  yr_built_1955  yr_built_1956  \\\n",
            "0              0              0              0              1              0   \n",
            "1              0              0              0              0              0   \n",
            "2              0              0              0              0              0   \n",
            "3              0              0              0              0              0   \n",
            "4              0              0              0              0              0   \n",
            "\n",
            "   yr_built_1957  yr_built_1958  yr_built_1959  yr_built_1960  yr_built_1961  \\\n",
            "0              0              0              0              0              0   \n",
            "1              0              0              0              0              0   \n",
            "2              0              0              0              0              0   \n",
            "3              0              0              0              0              0   \n",
            "4              0              0              0              0              0   \n",
            "\n",
            "   yr_built_1962  yr_built_1963  yr_built_1964  yr_built_1965  yr_built_1966  \\\n",
            "0              0              0              0              0              0   \n",
            "1              0              0              0              0              0   \n",
            "2              0              0              0              0              0   \n",
            "3              0              0              0              1              0   \n",
            "4              0              0              0              0              0   \n",
            "\n",
            "   yr_built_1967  yr_built_1968  yr_built_1969  yr_built_1970  yr_built_1971  \\\n",
            "0              0              0              0              0              0   \n",
            "1              0              0              0              0              0   \n",
            "2              0              0              0              0              0   \n",
            "3              0              0              0              0              0   \n",
            "4              0              0              0              0              0   \n",
            "\n",
            "   yr_built_1972  yr_built_1973  yr_built_1974  yr_built_1975  yr_built_1976  \\\n",
            "0              0              0              0              0              0   \n",
            "1              0              0              0              0              0   \n",
            "2              0              0              0              0              0   \n",
            "3              0              0              0              0              0   \n",
            "4              0              0              0              0              0   \n",
            "\n",
            "   yr_built_1977  yr_built_1978  yr_built_1979  yr_built_1980  yr_built_1981  \\\n",
            "0              0              0              0              0              0   \n",
            "1              0              0              0              0              0   \n",
            "2              0              0              0              0              0   \n",
            "3              0              0              0              0              0   \n",
            "4              0              0              0              0              0   \n",
            "\n",
            "   yr_built_1982  yr_built_1983  yr_built_1984  yr_built_1985  yr_built_1986  \\\n",
            "0              0              0              0              0              0   \n",
            "1              0              0              0              0              0   \n",
            "2              0              0              0              0              0   \n",
            "3              0              0              0              0              0   \n",
            "4              0              0              0              0              0   \n",
            "\n",
            "   yr_built_1987  yr_built_1988  yr_built_1989  yr_built_1990  yr_built_1991  \\\n",
            "0              0              0              0              0              0   \n",
            "1              0              0              0              0              0   \n",
            "2              0              0              0              0              0   \n",
            "3              0              0              0              0              0   \n",
            "4              1              0              0              0              0   \n",
            "\n",
            "   yr_built_1992  yr_built_1993  yr_built_1994  yr_built_1995  yr_built_1996  \\\n",
            "0              0              0              0              0              0   \n",
            "1              0              0              0              0              0   \n",
            "2              0              0              0              0              0   \n",
            "3              0              0              0              0              0   \n",
            "4              0              0              0              0              0   \n",
            "\n",
            "   yr_built_1997  yr_built_1998  yr_built_1999  yr_built_2000  yr_built_2001  \\\n",
            "0              0              0              0              0              0   \n",
            "1              0              0              0              0              0   \n",
            "2              0              0              0              0              0   \n",
            "3              0              0              0              0              0   \n",
            "4              0              0              0              0              0   \n",
            "\n",
            "   yr_built_2002  yr_built_2003  yr_built_2004  yr_built_2005  yr_built_2006  \\\n",
            "0              0              0              0              0              0   \n",
            "1              0              0              0              0              0   \n",
            "2              0              0              0              0              0   \n",
            "3              0              0              0              0              0   \n",
            "4              0              0              0              0              0   \n",
            "\n",
            "   yr_built_2007  yr_built_2008  yr_built_2009  yr_built_2010  yr_built_2011  \\\n",
            "0              0              0              0              0              0   \n",
            "1              0              0              0              0              0   \n",
            "2              0              0              0              0              0   \n",
            "3              0              0              0              0              0   \n",
            "4              0              0              0              0              0   \n",
            "\n",
            "   yr_built_2012  yr_built_2013  yr_built_2014  yr_built_2015  \\\n",
            "0              0              0              0              0   \n",
            "1              0              0              0              0   \n",
            "2              0              0              0              0   \n",
            "3              0              0              0              0   \n",
            "4              0              0              0              0   \n",
            "\n",
            "   yr_renovated_1934  yr_renovated_1940  yr_renovated_1944  yr_renovated_1945  \\\n",
            "0                  0                  0                  0                  0   \n",
            "1                  0                  0                  0                  0   \n",
            "2                  0                  0                  0                  0   \n",
            "3                  0                  0                  0                  0   \n",
            "4                  0                  0                  0                  0   \n",
            "\n",
            "   yr_renovated_1946  yr_renovated_1948  yr_renovated_1950  yr_renovated_1951  \\\n",
            "0                  0                  0                  0                  0   \n",
            "1                  0                  0                  0                  0   \n",
            "2                  0                  0                  0                  0   \n",
            "3                  0                  0                  0                  0   \n",
            "4                  0                  0                  0                  0   \n",
            "\n",
            "   yr_renovated_1953  yr_renovated_1954  yr_renovated_1955  yr_renovated_1956  \\\n",
            "0                  0                  0                  0                  0   \n",
            "1                  0                  0                  0                  0   \n",
            "2                  0                  0                  0                  0   \n",
            "3                  0                  0                  0                  0   \n",
            "4                  0                  0                  0                  0   \n",
            "\n",
            "   yr_renovated_1957  yr_renovated_1958  yr_renovated_1959  yr_renovated_1960  \\\n",
            "0                  0                  0                  0                  0   \n",
            "1                  0                  0                  0                  0   \n",
            "2                  0                  0                  0                  0   \n",
            "3                  0                  0                  0                  0   \n",
            "4                  0                  0                  0                  0   \n",
            "\n",
            "   yr_renovated_1962  yr_renovated_1963  yr_renovated_1964  yr_renovated_1965  \\\n",
            "0                  0                  0                  0                  0   \n",
            "1                  0                  0                  0                  0   \n",
            "2                  0                  0                  0                  0   \n",
            "3                  0                  0                  0                  0   \n",
            "4                  0                  0                  0                  0   \n",
            "\n",
            "   yr_renovated_1967  yr_renovated_1968  yr_renovated_1969  yr_renovated_1970  \\\n",
            "0                  0                  0                  0                  0   \n",
            "1                  0                  0                  0                  0   \n",
            "2                  0                  0                  0                  0   \n",
            "3                  0                  0                  0                  0   \n",
            "4                  0                  0                  0                  0   \n",
            "\n",
            "   yr_renovated_1971  yr_renovated_1972  yr_renovated_1973  yr_renovated_1974  \\\n",
            "0                  0                  0                  0                  0   \n",
            "1                  0                  0                  0                  0   \n",
            "2                  0                  0                  0                  0   \n",
            "3                  0                  0                  0                  0   \n",
            "4                  0                  0                  0                  0   \n",
            "\n",
            "   yr_renovated_1975  yr_renovated_1976  yr_renovated_1977  yr_renovated_1978  \\\n",
            "0                  0                  0                  0                  0   \n",
            "1                  0                  0                  0                  0   \n",
            "2                  0                  0                  0                  0   \n",
            "3                  0                  0                  0                  0   \n",
            "4                  0                  0                  0                  0   \n",
            "\n",
            "   yr_renovated_1979  yr_renovated_1980  yr_renovated_1981  yr_renovated_1982  \\\n",
            "0                  0                  0                  0                  0   \n",
            "1                  0                  0                  0                  0   \n",
            "2                  0                  0                  0                  0   \n",
            "3                  0                  0                  0                  0   \n",
            "4                  0                  0                  0                  0   \n",
            "\n",
            "   yr_renovated_1983  yr_renovated_1984  yr_renovated_1985  yr_renovated_1986  \\\n",
            "0                  0                  0                  0                  0   \n",
            "1                  0                  0                  0                  0   \n",
            "2                  0                  0                  0                  0   \n",
            "3                  0                  0                  0                  0   \n",
            "4                  0                  0                  0                  0   \n",
            "\n",
            "   yr_renovated_1987  yr_renovated_1988  yr_renovated_1989  yr_renovated_1990  \\\n",
            "0                  0                  0                  0                  0   \n",
            "1                  0                  0                  0                  0   \n",
            "2                  0                  0                  0                  0   \n",
            "3                  0                  0                  0                  0   \n",
            "4                  0                  0                  0                  0   \n",
            "\n",
            "   yr_renovated_1991  yr_renovated_1992  yr_renovated_1993  yr_renovated_1994  \\\n",
            "0                  0                  0                  0                  0   \n",
            "1                  1                  0                  0                  0   \n",
            "2                  0                  0                  0                  0   \n",
            "3                  0                  0                  0                  0   \n",
            "4                  0                  0                  0                  0   \n",
            "\n",
            "   yr_renovated_1995  yr_renovated_1996  yr_renovated_1997  yr_renovated_1998  \\\n",
            "0                  0                  0                  0                  0   \n",
            "1                  0                  0                  0                  0   \n",
            "2                  0                  0                  0                  0   \n",
            "3                  0                  0                  0                  0   \n",
            "4                  0                  0                  0                  0   \n",
            "\n",
            "   yr_renovated_1999  yr_renovated_2000  yr_renovated_2001  yr_renovated_2002  \\\n",
            "0                  0                  0                  0                  0   \n",
            "1                  0                  0                  0                  0   \n",
            "2                  0                  0                  0                  0   \n",
            "3                  0                  0                  0                  0   \n",
            "4                  0                  0                  0                  0   \n",
            "\n",
            "   yr_renovated_2003  yr_renovated_2004  yr_renovated_2005  yr_renovated_2006  \\\n",
            "0                  0                  0                  0                  0   \n",
            "1                  0                  0                  0                  0   \n",
            "2                  0                  0                  0                  0   \n",
            "3                  0                  0                  0                  0   \n",
            "4                  0                  0                  0                  0   \n",
            "\n",
            "   yr_renovated_2007  yr_renovated_2008  yr_renovated_2009  yr_renovated_2010  \\\n",
            "0                  0                  0                  0                  0   \n",
            "1                  0                  0                  0                  0   \n",
            "2                  0                  0                  0                  0   \n",
            "3                  0                  0                  0                  0   \n",
            "4                  0                  0                  0                  0   \n",
            "\n",
            "   yr_renovated_2011  yr_renovated_2012  yr_renovated_2013  yr_renovated_2014  \\\n",
            "0                  0                  0                  0                  0   \n",
            "1                  0                  0                  0                  0   \n",
            "2                  0                  0                  0                  0   \n",
            "3                  0                  0                  0                  0   \n",
            "4                  0                  0                  0                  0   \n",
            "\n",
            "   yr_renovated_2015  \n",
            "0                  0  \n",
            "1                  0  \n",
            "2                  0  \n",
            "3                  0  \n",
            "4                  0  \n"
          ],
          "name": "stdout"
        }
      ]
    },
    {
      "cell_type": "code",
      "metadata": {
        "id": "8Tl6NKHH7OCp"
      },
      "source": [
        "\r\n",
        "# ----------------------------------------------------------\r\n",
        "# Step 8 - Create Train and test split\r\n",
        "# ----------------------------------------------------------\r\n",
        "\r\n",
        "# Split the X and Y dataset into training and testing set\r\n",
        "#\r\n",
        "#      from sklearn.model_selection import train_test_split\r\n",
        "#      X_train, X_test, Y_train, Y_test = \\\r\n",
        "#      train_test_split(X, Y, test_size = 0.4, random_state = 1234)\r\n",
        "#\r\n",
        "# Demand is time-series type of data\r\n",
        "\r\n",
        "Y = houses_prep[['price']]\r\n",
        "X = houses_prep.drop(['price'], axis= 1)\r\n",
        "\r\n",
        "tr_size = 0.7 * len(X)\r\n",
        "tr_size = int(tr_size)\r\n",
        "\r\n",
        "X_train = X.values[0 : tr_size]\r\n",
        "X_test = X.values[tr_size : len(X)]\r\n",
        "\r\n",
        "Y_train = Y.values[0 : tr_size]\r\n",
        "Y_test = Y.values[tr_size : len(Y)]\r\n"
      ],
      "execution_count": 76,
      "outputs": []
    },
    {
      "cell_type": "code",
      "metadata": {
        "colab": {
          "base_uri": "https://localhost:8080/"
        },
        "id": "-cs2Ot0Q7rjk",
        "outputId": "9d609564-9e33-4bb0-8ccd-8d0294e1141f"
      },
      "source": [
        "\r\n",
        "# ----------------------------------------------------------\r\n",
        "# Step 9 - Fit and Score the model\r\n",
        "# ----------------------------------------------------------\r\n",
        "# Linear Regression\r\n",
        "from sklearn.linear_model import LinearRegression\r\n",
        "\r\n",
        "std_reg = LinearRegression()\r\n",
        "std_reg.fit(X_train, Y_train)\r\n",
        "\r\n",
        "r2_train = std_reg.score(X_train, Y_train)\r\n",
        "r2_test  = std_reg.score(X_test, Y_test)\r\n",
        "\r\n",
        "\r\n",
        "# Create Y Predictions\r\n",
        "Y_predict = std_reg.predict(X_test)\r\n",
        "\r\n",
        "\r\n",
        "from sklearn.metrics import mean_squared_error\r\n",
        "rmse = math.sqrt(mean_squared_error(Y_test, Y_predict))\r\n",
        "\r\n",
        "print('r2_test ', r2_test)\r\n",
        "print('r2_train', r2_train)\r\n",
        "print('rmse', rmse)\r\n"
      ],
      "execution_count": 77,
      "outputs": [
        {
          "output_type": "stream",
          "text": [
            "r2_test  0.774743913356278\n",
            "r2_train 0.7847894216937253\n",
            "rmse 0.24917234636396374\n"
          ],
          "name": "stdout"
        }
      ]
    },
    {
      "cell_type": "code",
      "metadata": {
        "colab": {
          "base_uri": "https://localhost:8080/"
        },
        "id": "T4dko4OK8Ina",
        "outputId": "39f41aaf-298b-4f7a-f5cf-74a21713cdf5"
      },
      "source": [
        "\r\n",
        "# Calculate RMSLE and compare results\r\n",
        "# Exponent opposite to log\r\n",
        "\r\n",
        "Y_test_e = []\r\n",
        "Y_predict_e = []\r\n",
        "\r\n",
        "for i in range(0, len(Y_test)):\r\n",
        "    Y_test_e.append(math.exp(Y_test[i]))\r\n",
        "    Y_predict_e.append(math.exp(Y_predict[i]))\r\n",
        "\r\n",
        "log_sq_sum = 0.0\r\n",
        "\r\n",
        "for i in range(0, len(Y_test_e)):\r\n",
        "    log_a = math.log(Y_test_e[i] + 1)\r\n",
        "    log_p = math.log(Y_predict_e[i] + 1)\r\n",
        "    log_diff = (log_p - log_a)**2\r\n",
        "    log_sq_sum = log_sq_sum + log_diff\r\n",
        "\r\n",
        "rmsle = math.sqrt(log_sq_sum/len(Y_test))\r\n",
        "\r\n",
        "print(rmsle)"
      ],
      "execution_count": 78,
      "outputs": [
        {
          "output_type": "stream",
          "text": [
            "0.24917177958238695\n"
          ],
          "name": "stdout"
        }
      ]
    }
  ]
}