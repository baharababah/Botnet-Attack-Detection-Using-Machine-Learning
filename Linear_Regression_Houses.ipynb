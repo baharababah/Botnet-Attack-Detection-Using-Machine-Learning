{
  "nbformat": 4,
  "nbformat_minor": 0,
  "metadata": {
    "colab": {
      "name": "Linear_Regression_Houses.ipynb",
      "provenance": [],
      "authorship_tag": "ABX9TyNEhMXCRPldnRMHTlFJmmbT",
      "include_colab_link": true
    },
    "kernelspec": {
      "name": "python3",
      "display_name": "Python 3"
    }
  },
  "cells": [
    {
      "cell_type": "markdown",
      "metadata": {
        "id": "view-in-github",
        "colab_type": "text"
      },
      "source": [
        "<a href=\"https://colab.research.google.com/github/baharababah/Botnet-Attack-Detection-Using-Machine-Learning/blob/main/Linear_Regression_Houses.ipynb\" target=\"_parent\"><img src=\"https://colab.research.google.com/assets/colab-badge.svg\" alt=\"Open In Colab\"/></a>"
      ]
    },
    {
      "cell_type": "code",
      "metadata": {
        "colab": {
          "base_uri": "https://localhost:8080/",
          "height": 401
        },
        "id": "eRsMK6IcgQU4",
        "outputId": "68c58eed-2800-481f-be70-efaea95c8fa7"
      },
      "source": [
        "# --------------------------------------------------------------\r\n",
        "# Simple Linear Regression\r\n",
        "# Predict the marks obtained by a student based on hours of study\r\n",
        "# --------------------------------------------------------------\r\n",
        "from google.colab import drive \r\n",
        "drive.mount('/content/drive/')\r\n",
        "# ----------------------------------------------\r\n",
        "# Step 0 - Import Libraries\r\n",
        "# ---------------------------------------------\r\n",
        "import pandas as pd\r\n",
        "import matplotlib.pyplot as plt\r\n",
        "import numpy as np\r\n",
        "import math\r\n",
        "from sklearn import datasets\r\n",
        "# ----------------------------------------------\r\n",
        "# Step 1 - Read the data\r\n",
        "# ----------------------------------------------\r\n",
        "houses = pd.read_csv('/content/drive/My Drive/kc_house_data.csv')\r\n",
        "houses.head(10)"
      ],
      "execution_count": 16,
      "outputs": [
        {
          "output_type": "stream",
          "text": [
            "Drive already mounted at /content/drive/; to attempt to forcibly remount, call drive.mount(\"/content/drive/\", force_remount=True).\n"
          ],
          "name": "stdout"
        },
        {
          "output_type": "execute_result",
          "data": {
            "text/html": [
              "<div>\n",
              "<style scoped>\n",
              "    .dataframe tbody tr th:only-of-type {\n",
              "        vertical-align: middle;\n",
              "    }\n",
              "\n",
              "    .dataframe tbody tr th {\n",
              "        vertical-align: top;\n",
              "    }\n",
              "\n",
              "    .dataframe thead th {\n",
              "        text-align: right;\n",
              "    }\n",
              "</style>\n",
              "<table border=\"1\" class=\"dataframe\">\n",
              "  <thead>\n",
              "    <tr style=\"text-align: right;\">\n",
              "      <th></th>\n",
              "      <th>id</th>\n",
              "      <th>date</th>\n",
              "      <th>price</th>\n",
              "      <th>bedrooms</th>\n",
              "      <th>bathrooms</th>\n",
              "      <th>sqft_living</th>\n",
              "      <th>sqft_lot</th>\n",
              "      <th>floors</th>\n",
              "      <th>waterfront</th>\n",
              "      <th>view</th>\n",
              "      <th>condition</th>\n",
              "      <th>grade</th>\n",
              "      <th>sqft_above</th>\n",
              "      <th>sqft_basement</th>\n",
              "      <th>yr_built</th>\n",
              "      <th>yr_renovated</th>\n",
              "      <th>zipcode</th>\n",
              "      <th>lat</th>\n",
              "      <th>long</th>\n",
              "      <th>sqft_living15</th>\n",
              "      <th>sqft_lot15</th>\n",
              "    </tr>\n",
              "  </thead>\n",
              "  <tbody>\n",
              "    <tr>\n",
              "      <th>0</th>\n",
              "      <td>7129300520</td>\n",
              "      <td>20141013T000000</td>\n",
              "      <td>221900.0</td>\n",
              "      <td>3</td>\n",
              "      <td>1.00</td>\n",
              "      <td>1180</td>\n",
              "      <td>5650</td>\n",
              "      <td>1.0</td>\n",
              "      <td>0</td>\n",
              "      <td>0</td>\n",
              "      <td>3</td>\n",
              "      <td>7</td>\n",
              "      <td>1180</td>\n",
              "      <td>0</td>\n",
              "      <td>1955</td>\n",
              "      <td>0</td>\n",
              "      <td>98178</td>\n",
              "      <td>47.5112</td>\n",
              "      <td>-122.257</td>\n",
              "      <td>1340</td>\n",
              "      <td>5650</td>\n",
              "    </tr>\n",
              "    <tr>\n",
              "      <th>1</th>\n",
              "      <td>6414100192</td>\n",
              "      <td>20141209T000000</td>\n",
              "      <td>538000.0</td>\n",
              "      <td>3</td>\n",
              "      <td>2.25</td>\n",
              "      <td>2570</td>\n",
              "      <td>7242</td>\n",
              "      <td>2.0</td>\n",
              "      <td>0</td>\n",
              "      <td>0</td>\n",
              "      <td>3</td>\n",
              "      <td>7</td>\n",
              "      <td>2170</td>\n",
              "      <td>400</td>\n",
              "      <td>1951</td>\n",
              "      <td>1991</td>\n",
              "      <td>98125</td>\n",
              "      <td>47.7210</td>\n",
              "      <td>-122.319</td>\n",
              "      <td>1690</td>\n",
              "      <td>7639</td>\n",
              "    </tr>\n",
              "    <tr>\n",
              "      <th>2</th>\n",
              "      <td>5631500400</td>\n",
              "      <td>20150225T000000</td>\n",
              "      <td>180000.0</td>\n",
              "      <td>2</td>\n",
              "      <td>1.00</td>\n",
              "      <td>770</td>\n",
              "      <td>10000</td>\n",
              "      <td>1.0</td>\n",
              "      <td>0</td>\n",
              "      <td>0</td>\n",
              "      <td>3</td>\n",
              "      <td>6</td>\n",
              "      <td>770</td>\n",
              "      <td>0</td>\n",
              "      <td>1933</td>\n",
              "      <td>0</td>\n",
              "      <td>98028</td>\n",
              "      <td>47.7379</td>\n",
              "      <td>-122.233</td>\n",
              "      <td>2720</td>\n",
              "      <td>8062</td>\n",
              "    </tr>\n",
              "    <tr>\n",
              "      <th>3</th>\n",
              "      <td>2487200875</td>\n",
              "      <td>20141209T000000</td>\n",
              "      <td>604000.0</td>\n",
              "      <td>4</td>\n",
              "      <td>3.00</td>\n",
              "      <td>1960</td>\n",
              "      <td>5000</td>\n",
              "      <td>1.0</td>\n",
              "      <td>0</td>\n",
              "      <td>0</td>\n",
              "      <td>5</td>\n",
              "      <td>7</td>\n",
              "      <td>1050</td>\n",
              "      <td>910</td>\n",
              "      <td>1965</td>\n",
              "      <td>0</td>\n",
              "      <td>98136</td>\n",
              "      <td>47.5208</td>\n",
              "      <td>-122.393</td>\n",
              "      <td>1360</td>\n",
              "      <td>5000</td>\n",
              "    </tr>\n",
              "    <tr>\n",
              "      <th>4</th>\n",
              "      <td>1954400510</td>\n",
              "      <td>20150218T000000</td>\n",
              "      <td>510000.0</td>\n",
              "      <td>3</td>\n",
              "      <td>2.00</td>\n",
              "      <td>1680</td>\n",
              "      <td>8080</td>\n",
              "      <td>1.0</td>\n",
              "      <td>0</td>\n",
              "      <td>0</td>\n",
              "      <td>3</td>\n",
              "      <td>8</td>\n",
              "      <td>1680</td>\n",
              "      <td>0</td>\n",
              "      <td>1987</td>\n",
              "      <td>0</td>\n",
              "      <td>98074</td>\n",
              "      <td>47.6168</td>\n",
              "      <td>-122.045</td>\n",
              "      <td>1800</td>\n",
              "      <td>7503</td>\n",
              "    </tr>\n",
              "    <tr>\n",
              "      <th>5</th>\n",
              "      <td>7237550310</td>\n",
              "      <td>20140512T000000</td>\n",
              "      <td>1225000.0</td>\n",
              "      <td>4</td>\n",
              "      <td>4.50</td>\n",
              "      <td>5420</td>\n",
              "      <td>101930</td>\n",
              "      <td>1.0</td>\n",
              "      <td>0</td>\n",
              "      <td>0</td>\n",
              "      <td>3</td>\n",
              "      <td>11</td>\n",
              "      <td>3890</td>\n",
              "      <td>1530</td>\n",
              "      <td>2001</td>\n",
              "      <td>0</td>\n",
              "      <td>98053</td>\n",
              "      <td>47.6561</td>\n",
              "      <td>-122.005</td>\n",
              "      <td>4760</td>\n",
              "      <td>101930</td>\n",
              "    </tr>\n",
              "    <tr>\n",
              "      <th>6</th>\n",
              "      <td>1321400060</td>\n",
              "      <td>20140627T000000</td>\n",
              "      <td>257500.0</td>\n",
              "      <td>3</td>\n",
              "      <td>2.25</td>\n",
              "      <td>1715</td>\n",
              "      <td>6819</td>\n",
              "      <td>2.0</td>\n",
              "      <td>0</td>\n",
              "      <td>0</td>\n",
              "      <td>3</td>\n",
              "      <td>7</td>\n",
              "      <td>1715</td>\n",
              "      <td>0</td>\n",
              "      <td>1995</td>\n",
              "      <td>0</td>\n",
              "      <td>98003</td>\n",
              "      <td>47.3097</td>\n",
              "      <td>-122.327</td>\n",
              "      <td>2238</td>\n",
              "      <td>6819</td>\n",
              "    </tr>\n",
              "    <tr>\n",
              "      <th>7</th>\n",
              "      <td>2008000270</td>\n",
              "      <td>20150115T000000</td>\n",
              "      <td>291850.0</td>\n",
              "      <td>3</td>\n",
              "      <td>1.50</td>\n",
              "      <td>1060</td>\n",
              "      <td>9711</td>\n",
              "      <td>1.0</td>\n",
              "      <td>0</td>\n",
              "      <td>0</td>\n",
              "      <td>3</td>\n",
              "      <td>7</td>\n",
              "      <td>1060</td>\n",
              "      <td>0</td>\n",
              "      <td>1963</td>\n",
              "      <td>0</td>\n",
              "      <td>98198</td>\n",
              "      <td>47.4095</td>\n",
              "      <td>-122.315</td>\n",
              "      <td>1650</td>\n",
              "      <td>9711</td>\n",
              "    </tr>\n",
              "    <tr>\n",
              "      <th>8</th>\n",
              "      <td>2414600126</td>\n",
              "      <td>20150415T000000</td>\n",
              "      <td>229500.0</td>\n",
              "      <td>3</td>\n",
              "      <td>1.00</td>\n",
              "      <td>1780</td>\n",
              "      <td>7470</td>\n",
              "      <td>1.0</td>\n",
              "      <td>0</td>\n",
              "      <td>0</td>\n",
              "      <td>3</td>\n",
              "      <td>7</td>\n",
              "      <td>1050</td>\n",
              "      <td>730</td>\n",
              "      <td>1960</td>\n",
              "      <td>0</td>\n",
              "      <td>98146</td>\n",
              "      <td>47.5123</td>\n",
              "      <td>-122.337</td>\n",
              "      <td>1780</td>\n",
              "      <td>8113</td>\n",
              "    </tr>\n",
              "    <tr>\n",
              "      <th>9</th>\n",
              "      <td>3793500160</td>\n",
              "      <td>20150312T000000</td>\n",
              "      <td>323000.0</td>\n",
              "      <td>3</td>\n",
              "      <td>2.50</td>\n",
              "      <td>1890</td>\n",
              "      <td>6560</td>\n",
              "      <td>2.0</td>\n",
              "      <td>0</td>\n",
              "      <td>0</td>\n",
              "      <td>3</td>\n",
              "      <td>7</td>\n",
              "      <td>1890</td>\n",
              "      <td>0</td>\n",
              "      <td>2003</td>\n",
              "      <td>0</td>\n",
              "      <td>98038</td>\n",
              "      <td>47.3684</td>\n",
              "      <td>-122.031</td>\n",
              "      <td>2390</td>\n",
              "      <td>7570</td>\n",
              "    </tr>\n",
              "  </tbody>\n",
              "</table>\n",
              "</div>"
            ],
            "text/plain": [
              "           id             date      price  bedrooms  bathrooms  sqft_living  \\\n",
              "0  7129300520  20141013T000000   221900.0         3       1.00         1180   \n",
              "1  6414100192  20141209T000000   538000.0         3       2.25         2570   \n",
              "2  5631500400  20150225T000000   180000.0         2       1.00          770   \n",
              "3  2487200875  20141209T000000   604000.0         4       3.00         1960   \n",
              "4  1954400510  20150218T000000   510000.0         3       2.00         1680   \n",
              "5  7237550310  20140512T000000  1225000.0         4       4.50         5420   \n",
              "6  1321400060  20140627T000000   257500.0         3       2.25         1715   \n",
              "7  2008000270  20150115T000000   291850.0         3       1.50         1060   \n",
              "8  2414600126  20150415T000000   229500.0         3       1.00         1780   \n",
              "9  3793500160  20150312T000000   323000.0         3       2.50         1890   \n",
              "\n",
              "   sqft_lot  floors  waterfront  view  condition  grade  sqft_above  \\\n",
              "0      5650     1.0           0     0          3      7        1180   \n",
              "1      7242     2.0           0     0          3      7        2170   \n",
              "2     10000     1.0           0     0          3      6         770   \n",
              "3      5000     1.0           0     0          5      7        1050   \n",
              "4      8080     1.0           0     0          3      8        1680   \n",
              "5    101930     1.0           0     0          3     11        3890   \n",
              "6      6819     2.0           0     0          3      7        1715   \n",
              "7      9711     1.0           0     0          3      7        1060   \n",
              "8      7470     1.0           0     0          3      7        1050   \n",
              "9      6560     2.0           0     0          3      7        1890   \n",
              "\n",
              "   sqft_basement  yr_built  yr_renovated  zipcode      lat     long  \\\n",
              "0              0      1955             0    98178  47.5112 -122.257   \n",
              "1            400      1951          1991    98125  47.7210 -122.319   \n",
              "2              0      1933             0    98028  47.7379 -122.233   \n",
              "3            910      1965             0    98136  47.5208 -122.393   \n",
              "4              0      1987             0    98074  47.6168 -122.045   \n",
              "5           1530      2001             0    98053  47.6561 -122.005   \n",
              "6              0      1995             0    98003  47.3097 -122.327   \n",
              "7              0      1963             0    98198  47.4095 -122.315   \n",
              "8            730      1960             0    98146  47.5123 -122.337   \n",
              "9              0      2003             0    98038  47.3684 -122.031   \n",
              "\n",
              "   sqft_living15  sqft_lot15  \n",
              "0           1340        5650  \n",
              "1           1690        7639  \n",
              "2           2720        8062  \n",
              "3           1360        5000  \n",
              "4           1800        7503  \n",
              "5           4760      101930  \n",
              "6           2238        6819  \n",
              "7           1650        9711  \n",
              "8           1780        8113  \n",
              "9           2390        7570  "
            ]
          },
          "metadata": {
            "tags": []
          },
          "execution_count": 16
        }
      ]
    },
    {
      "cell_type": "code",
      "metadata": {
        "colab": {
          "base_uri": "https://localhost:8080/"
        },
        "id": "1n4fQLXNuT-h",
        "outputId": "a0c32e50-01c1-4827-811f-2d006d3f65c5"
      },
      "source": [
        "houses.dtypes\r\n"
      ],
      "execution_count": 17,
      "outputs": [
        {
          "output_type": "execute_result",
          "data": {
            "text/plain": [
              "id                 int64\n",
              "date              object\n",
              "price            float64\n",
              "bedrooms           int64\n",
              "bathrooms        float64\n",
              "sqft_living        int64\n",
              "sqft_lot           int64\n",
              "floors           float64\n",
              "waterfront         int64\n",
              "view               int64\n",
              "condition          int64\n",
              "grade              int64\n",
              "sqft_above         int64\n",
              "sqft_basement      int64\n",
              "yr_built           int64\n",
              "yr_renovated       int64\n",
              "zipcode            int64\n",
              "lat              float64\n",
              "long             float64\n",
              "sqft_living15      int64\n",
              "sqft_lot15         int64\n",
              "dtype: object"
            ]
          },
          "metadata": {
            "tags": []
          },
          "execution_count": 17
        }
      ]
    },
    {
      "cell_type": "code",
      "metadata": {
        "colab": {
          "base_uri": "https://localhost:8080/"
        },
        "id": "y69x01vqb0Ag",
        "outputId": "6de3efad-5fd8-4d5b-9a7f-996577dd4fb2"
      },
      "source": [
        "houses_prep = houses.copy()\r\n",
        "houses_prep = houses_prep.drop(['date', 'id'], axis=1)\r\n",
        "houses_prep.isnull().sum()"
      ],
      "execution_count": 18,
      "outputs": [
        {
          "output_type": "execute_result",
          "data": {
            "text/plain": [
              "price            0\n",
              "bedrooms         0\n",
              "bathrooms        0\n",
              "sqft_living      0\n",
              "sqft_lot         0\n",
              "floors           0\n",
              "waterfront       0\n",
              "view             0\n",
              "condition        0\n",
              "grade            0\n",
              "sqft_above       0\n",
              "sqft_basement    0\n",
              "yr_built         0\n",
              "yr_renovated     0\n",
              "zipcode          0\n",
              "lat              0\n",
              "long             0\n",
              "sqft_living15    0\n",
              "sqft_lot15       0\n",
              "dtype: int64"
            ]
          },
          "metadata": {
            "tags": []
          },
          "execution_count": 18
        }
      ]
    },
    {
      "cell_type": "code",
      "metadata": {
        "colab": {
          "base_uri": "https://localhost:8080/",
          "height": 331
        },
        "id": "cVk0KWcsaJyW",
        "outputId": "bdf3c45e-f878-4b15-810a-ae4b62e766dd"
      },
      "source": [
        "# Create pandas histogram to check if the columns are normal distribution\r\n",
        "# price variable is not normaly distribution\r\n",
        "houses_prep.hist(column= 'price', rwidth = 0.9)\r\n"
      ],
      "execution_count": 19,
      "outputs": [
        {
          "output_type": "execute_result",
          "data": {
            "text/plain": [
              "array([[<matplotlib.axes._subplots.AxesSubplot object at 0x7fc0d43a79b0>]],\n",
              "      dtype=object)"
            ]
          },
          "metadata": {
            "tags": []
          },
          "execution_count": 19
        },
        {
          "output_type": "display_data",
          "data": {
            "image/png": "[encoded data removed]",
            "text/plain": [
              "<Figure size 432x288 with 1 Axes>"
            ]
          },
          "metadata": {
            "tags": [],
            "needs_background": "light"
          }
        }
      ]
    },
    {
      "cell_type": "markdown",
      "metadata": {
        "id": "-RpiNt1AVOwl"
      },
      "source": [
        "The histogram shows that price variable is not Normally Distributed"
      ]
    },
    {
      "cell_type": "code",
      "metadata": {
        "colab": {
          "base_uri": "https://localhost:8080/",
          "height": 585
        },
        "id": "5d47c_Yoe4z4",
        "outputId": "9f47ce07-e9b5-4fa5-9c32-5a65eb2ab7f7"
      },
      "source": [
        "# ----------------------------------------------\r\n",
        "# Step 3 - Data Visualisation\r\n",
        "# ----------------------------------------------\r\n",
        "#price            float64\r\n",
        "# Visualise the continuous features Vs demand\r\n",
        "# sqft_living , sqft_lot, sqft_above , sqft_basement , lat , long  , sqft_living15 , sqft_lot15 \r\n",
        "fig = plt.figure(figsize=(8, 8))\r\n",
        "plt.subplot(4,2,1) \r\n",
        "plt.title('sqft_living Vs price')\r\n",
        "plt.scatter(houses_prep['sqft_living'], houses_prep['price'], s=2, c='g')\r\n",
        "plt.tight_layout()\r\n",
        "\r\n",
        "plt.subplot(4,2,2) \r\n",
        "plt.title('sqft_lot Vs price')\r\n",
        "plt.scatter(houses_prep['sqft_lot'], houses_prep['price'], s=2, c='r')\r\n",
        "plt.tight_layout()\r\n",
        "\r\n",
        "\r\n",
        "plt.subplot(4,2,3) \r\n",
        "plt.title('sqft_above Vs price')\r\n",
        "plt.scatter(houses_prep['sqft_above'], houses_prep['price'], s=2, c='b')\r\n",
        "plt.tight_layout()\r\n",
        "\r\n",
        "plt.subplot(4,2,4) \r\n",
        "plt.title('sqft_basement Vs price')\r\n",
        "plt.scatter(houses_prep['sqft_basement'], houses_prep['price'], s=2, c='y')\r\n",
        "plt.tight_layout()\r\n",
        "\r\n",
        "plt.subplot(4,2,5) \r\n",
        "plt.title('lat Vs price')\r\n",
        "plt.scatter(houses_prep['lat'], houses_prep['price'], s=2, c='b')\r\n",
        "plt.tight_layout()\r\n",
        "\r\n",
        "plt.subplot(4,2,6) \r\n",
        "plt.title(' long Vs price')\r\n",
        "plt.scatter(houses_prep['long'], houses_prep['price'], s=2, c='y')\r\n",
        "plt.tight_layout()\r\n",
        "\r\n",
        "plt.subplot(4,2,7) \r\n",
        "plt.title(' sqft_living15  Vs price')\r\n",
        "plt.scatter(houses_prep['sqft_living15'], houses_prep['price'], s=2, c='r')\r\n",
        "plt.tight_layout()\r\n",
        "\r\n",
        "\r\n",
        "plt.subplot(4,2,8) \r\n",
        "plt.title('sqft_lot15 Vs price')\r\n",
        "plt.scatter(houses_prep['sqft_lot15'], houses_prep['price'], s=1, c='r')\r\n",
        "plt.tight_layout()\r\n"
      ],
      "execution_count": 20,
      "outputs": [
        {
          "output_type": "display_data",
          "data": {
            "image/png": "[encoded data removed]",
            "text/plain": [
              "<Figure size 576x576 with 8 Axes>"
            ]
          },
          "metadata": {
            "tags": [],
            "needs_background": "light"
          }
        }
      ]
    },
    {
      "cell_type": "markdown",
      "metadata": {
        "id": "u0MDslEjV-oY"
      },
      "source": [
        "**The scatter plots show that:**\r\n",
        "1.   The price increase while sqft_living increase\r\n",
        "2.   The price increase while sqft_above increase.\r\n",
        "3.   The price increase while sqft_living15 increase.\r\n",
        "4.   The graphes of sqft_living, sqft_above, sqft_living15 are almost    identical.\r\n",
        "5.   sqft_living and price appear to have direct correlation.\r\n",
        "6.   It is difficult at this stage to conclude something for the other variables. "
      ]
    },
    {
      "cell_type": "code",
      "metadata": {
        "colab": {
          "base_uri": "https://localhost:8080/",
          "height": 585
        },
        "id": "qh9Sj5G6mKoU",
        "outputId": "abb90eab-10a3-4f15-898f-df3a6ba0be40"
      },
      "source": [
        "# Visualise the categorical features\r\n",
        "colors = ['g', 'r', 'm', 'b']\r\n",
        "fig = plt.figure(figsize=(8, 8))\r\n",
        "plt.subplot(3,2,1)\r\n",
        "plt.title('Average Price vs bedrooms')\r\n",
        "cat_list = houses_prep['bedrooms'].unique()\r\n",
        "cat_average = houses_prep.groupby('bedrooms').mean()['price']\r\n",
        "plt.bar(cat_list, cat_average, color=colors)\r\n",
        "plt.tight_layout()\r\n",
        "\r\n",
        "plt.subplot(3,2,2)\r\n",
        "plt.title('Average Price vs bathrooms')\r\n",
        "cat_list = houses_prep['bathrooms'].unique()\r\n",
        "cat_average = houses_prep.groupby('bathrooms').mean()['price']\r\n",
        "plt.bar(cat_list, cat_average, color=colors)\r\n",
        "plt.tight_layout()\r\n",
        "\r\n",
        "plt.subplot(3,2,3)\r\n",
        "plt.title('Average Price vs floors')\r\n",
        "cat_list = houses_prep['floors'].unique()\r\n",
        "cat_average = houses_prep.groupby('floors').mean()['price']\r\n",
        "plt.bar(cat_list, cat_average, color=colors)\r\n",
        "plt.tight_layout()\r\n",
        "\r\n",
        "plt.subplot(3,2,4)\r\n",
        "plt.title('Average Price vs waterfront')\r\n",
        "cat_list = houses_prep['waterfront'].unique()\r\n",
        "cat_average = houses_prep.groupby('waterfront').mean()['price']\r\n",
        "plt.bar(cat_list, cat_average, color=colors)\r\n",
        "plt.tight_layout()\r\n",
        "\r\n",
        "\r\n",
        "plt.subplot(3,2,5)\r\n",
        "plt.title('Average Price vs condition')\r\n",
        "cat_list = houses_prep['condition'].unique()\r\n",
        "cat_average = houses_prep.groupby('condition').mean()['price']\r\n",
        "plt.bar(cat_list, cat_average, color=colors)\r\n",
        "plt.tight_layout()"
      ],
      "execution_count": 21,
      "outputs": [
        {
          "output_type": "display_data",
          "data": {
            "image/png": "[encoded data removed]",
            "text/plain": [
              "<Figure size 576x576 with 5 Axes>"
            ]
          },
          "metadata": {
            "tags": [],
            "needs_background": "light"
          }
        }
      ]
    },
    {
      "cell_type": "markdown",
      "metadata": {
        "id": "sg4Zcjo0YiYI"
      },
      "source": [
        "The bar charts show that there are a variation betweens the categories of each variable with regards to the price. For example, the prices of houses with waterfront are more expensive than houses without waterfront."
      ]
    },
    {
      "cell_type": "code",
      "metadata": {
        "colab": {
          "base_uri": "https://localhost:8080/"
        },
        "id": "wLwCx7kWovnU",
        "outputId": "ded97b5e-200d-4cce-9614-57d8c8dd52b1"
      },
      "source": [
        "# Check for outliers\r\n",
        "houses_prep['price'].describe().apply(\"{0:.5f}\".format)"
      ],
      "execution_count": 22,
      "outputs": [
        {
          "output_type": "execute_result",
          "data": {
            "text/plain": [
              "count      21613.00000\n",
              "mean      540088.14177\n",
              "std       367127.19648\n",
              "min        75000.00000\n",
              "25%       321950.00000\n",
              "50%       450000.00000\n",
              "75%       645000.00000\n",
              "max      7700000.00000\n",
              "Name: price, dtype: object"
            ]
          },
          "metadata": {
            "tags": []
          },
          "execution_count": 22
        }
      ]
    },
    {
      "cell_type": "markdown",
      "metadata": {
        "id": "_9KYh52_g5fd"
      },
      "source": [
        "It shows that 50% of the prices located from 321950 to 64500, that is far away from the max and min."
      ]
    },
    {
      "cell_type": "code",
      "metadata": {
        "colab": {
          "base_uri": "https://localhost:8080/"
        },
        "id": "w_j7yQQ1ryB_",
        "outputId": "26f2ca7f-a733-4cfd-f64f-654668839bf5"
      },
      "source": [
        "houses_prep['price'].quantile([0.05, 0.1, 0.15, 0.5, 0.75, 0.9, 0.95, 0.99])"
      ],
      "execution_count": 23,
      "outputs": [
        {
          "output_type": "execute_result",
          "data": {
            "text/plain": [
              "0.05     210000.0\n",
              "0.10     245000.0\n",
              "0.15     270000.0\n",
              "0.50     450000.0\n",
              "0.75     645000.0\n",
              "0.90     887000.0\n",
              "0.95    1156480.0\n",
              "0.99    1964400.0\n",
              "Name: price, dtype: float64"
            ]
          },
          "metadata": {
            "tags": []
          },
          "execution_count": 23
        }
      ]
    },
    {
      "cell_type": "markdown",
      "metadata": {
        "id": "JJd3AVaQiIPU"
      },
      "source": [
        "This means that 5% of the prices are less than or equal 210000. The 0.99 is too large we might considet it as outlier and delete it."
      ]
    },
    {
      "cell_type": "code",
      "metadata": {
        "colab": {
          "base_uri": "https://localhost:8080/",
          "height": 348
        },
        "id": "g9Ic9-4hslyR",
        "outputId": "87c4e373-2069-4853-8e5c-42015ed496a7"
      },
      "source": [
        "# ------------------------------------------------------\r\n",
        "# Step 4 - Check Multiple Linear Regression Assumptions\r\n",
        "# ------------------------------------------------------\r\n",
        "# Linearity using correlation coefficient matrix using corr\r\n",
        "fig = plt.figure(figsize=(8, 8))\r\n",
        "pd.options.display.max_columns = None\r\n",
        "\r\n",
        "correlation = houses_prep[['sqft_living', 'sqft_above', 'yr_built', 'lat', 'long', 'sqft_living15', 'price']].corr()\r\n",
        "print(correlation)"
      ],
      "execution_count": 24,
      "outputs": [
        {
          "output_type": "stream",
          "text": [
            "               sqft_living  sqft_above  yr_built       lat      long  \\\n",
            "sqft_living       1.000000    0.876597  0.318049  0.052529  0.240223   \n",
            "sqft_above        0.876597    1.000000  0.423898 -0.000816  0.343803   \n",
            "yr_built          0.318049    0.423898  1.000000 -0.148122  0.409356   \n",
            "lat               0.052529   -0.000816 -0.148122  1.000000 -0.135512   \n",
            "long              0.240223    0.343803  0.409356 -0.135512  1.000000   \n",
            "sqft_living15     0.756420    0.731870  0.326229  0.048858  0.334605   \n",
            "price             0.702035    0.605567  0.054012  0.307003  0.021626   \n",
            "\n",
            "               sqft_living15     price  \n",
            "sqft_living         0.756420  0.702035  \n",
            "sqft_above          0.731870  0.605567  \n",
            "yr_built            0.326229  0.054012  \n",
            "lat                 0.048858  0.307003  \n",
            "long                0.334605  0.021626  \n",
            "sqft_living15       1.000000  0.585379  \n",
            "price               0.585379  1.000000  \n"
          ],
          "name": "stdout"
        },
        {
          "output_type": "display_data",
          "data": {
            "text/plain": [
              "<Figure size 576x576 with 0 Axes>"
            ]
          },
          "metadata": {
            "tags": []
          }
        }
      ]
    },
    {
      "cell_type": "markdown",
      "metadata": {
        "id": "salB01v3kV5x"
      },
      "source": [
        "Correlation between sqft_living and sqft_above is almost 0.8766, so we will drop sqft_above.\r\n",
        "\r\n",
        "Correlation between sqft_living and sqft_living15 is almost 0.7564, so we will drop sqft_living15.\r\n",
        "\r\n",
        "Correlation between price and yr_built is almost 0, so we will drop yr_built.\r\n",
        "Correlation between price and long is almost 0, so we will drop long."
      ]
    },
    {
      "cell_type": "code",
      "metadata": {
        "id": "Nm44JmBQnVnv"
      },
      "source": [
        "houses_clean = houses_prep.drop(['sqft_above', 'sqft_living15', 'long', 'yr_built'], axis=1)"
      ],
      "execution_count": 25,
      "outputs": []
    }
  ]
}